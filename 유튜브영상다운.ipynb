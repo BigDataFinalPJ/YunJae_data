{
 "cells": [
  {
   "cell_type": "code",
   "execution_count": null,
   "id": "97ea2565",
   "metadata": {},
   "outputs": [],
   "source": [
    "!pip install pytube # pytube 라이브러리 설치 "
   ]
  },
  {
   "cell_type": "code",
   "execution_count": 3,
   "id": "56332573",
   "metadata": {
    "scrolled": false
   },
   "outputs": [
    {
     "name": "stdout",
     "output_type": "stream",
     "text": [
      "제목 :  슬기로운 공빅생활 4회(20220722)\n",
      "길이 :  4242\n",
      "게시자 :  공공빅데이터청년인턴십\n",
      "게시날짜 :  2022-07-20 00:00:00\n",
      "조회수 :  181\n",
      "키워드 :  ['아이리포', '빅데이터', '교육', '온라인교육', '분석가', '데이터사이언티스트']\n",
      "설명 :  2022년 데이터 분석 청년인재 양성 [슬기로운 공빅생활] 4회\n",
      "썸네일 :  https://i.ytimg.com/vi/7SGbofnhp3M/hqdefault.jpg?v=62d89b2e\n"
     ]
    }
   ],
   "source": [
    "from pytube import YouTube\n",
    "DOWNLOAD_FOLDER = \"d:\\\\\" #영상 저장할 경로 지정\n",
    "url = \" \" #다운받고싶은 유튜브 링크\n",
    "yt = YouTube(url)\n",
    "\n",
    "stream = yt.streams.get_highest_resolution() #링크 크롤링\n",
    "stream.download(DOWNLOAD_FOLDER) \n",
    "\n",
    "\n",
    "print(\"제목 : \", yt.title)\n",
    "print(\"길이 : \", yt.length)\n",
    "print(\"게시자 : \", yt.author)\n",
    "print(\"게시날짜 : \", yt.publish_date)\n",
    "print(\"조회수 : \", yt.views)\n",
    "print(\"키워드 : \", yt.keywords)\n",
    "print(\"설명 : \", yt.description)\n",
    "print(\"썸네일 : \", yt.thumbnail_url)"
   ]
  }
 ],
 "metadata": {
  "kernelspec": {
   "display_name": "Python 3 (ipykernel)",
   "language": "python",
   "name": "python3"
  },
  "language_info": {
   "codemirror_mode": {
    "name": "ipython",
    "version": 3
   },
   "file_extension": ".py",
   "mimetype": "text/x-python",
   "name": "python",
   "nbconvert_exporter": "python",
   "pygments_lexer": "ipython3",
   "version": "3.9.12"
  }
 },
 "nbformat": 4,
 "nbformat_minor": 5
}
